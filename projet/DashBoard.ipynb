{
  "cells": [
    {
      "cell_type": "code",
      "execution_count": null,
      "metadata": {
        "colab": {
          "base_uri": "https://localhost:8080/"
        },
        "id": "EHns-_4nDq9I",
        "outputId": "9af4840a-6b44-46cc-f73f-a48588e4e472"
      },
      "outputs": [
        {
          "name": "stdout",
          "output_type": "stream",
          "text": [
            "Requirement already satisfied: dash in /usr/local/lib/python3.10/dist-packages (2.17.0)\n",
            "Requirement already satisfied: Flask<3.1,>=1.0.4 in /usr/local/lib/python3.10/dist-packages (from dash) (2.2.5)\n",
            "Requirement already satisfied: Werkzeug<3.1 in /usr/local/lib/python3.10/dist-packages (from dash) (3.0.3)\n",
            "Requirement already satisfied: plotly>=5.0.0 in /usr/local/lib/python3.10/dist-packages (from dash) (5.15.0)\n",
            "Requirement already satisfied: dash-html-components==2.0.0 in /usr/local/lib/python3.10/dist-packages (from dash) (2.0.0)\n",
            "Requirement already satisfied: dash-core-components==2.0.0 in /usr/local/lib/python3.10/dist-packages (from dash) (2.0.0)\n",
            "Requirement already satisfied: dash-table==5.0.0 in /usr/local/lib/python3.10/dist-packages (from dash) (5.0.0)\n",
            "Requirement already satisfied: importlib-metadata in /usr/local/lib/python3.10/dist-packages (from dash) (7.1.0)\n",
            "Requirement already satisfied: typing-extensions>=4.1.1 in /usr/local/lib/python3.10/dist-packages (from dash) (4.11.0)\n",
            "Requirement already satisfied: requests in /usr/local/lib/python3.10/dist-packages (from dash) (2.31.0)\n",
            "Requirement already satisfied: retrying in /usr/local/lib/python3.10/dist-packages (from dash) (1.3.4)\n",
            "Requirement already satisfied: nest-asyncio in /usr/local/lib/python3.10/dist-packages (from dash) (1.6.0)\n",
            "Requirement already satisfied: setuptools in /usr/local/lib/python3.10/dist-packages (from dash) (67.7.2)\n",
            "Requirement already satisfied: Jinja2>=3.0 in /usr/local/lib/python3.10/dist-packages (from Flask<3.1,>=1.0.4->dash) (3.1.4)\n",
            "Requirement already satisfied: itsdangerous>=2.0 in /usr/local/lib/python3.10/dist-packages (from Flask<3.1,>=1.0.4->dash) (2.2.0)\n",
            "Requirement already satisfied: click>=8.0 in /usr/local/lib/python3.10/dist-packages (from Flask<3.1,>=1.0.4->dash) (8.1.7)\n",
            "Requirement already satisfied: tenacity>=6.2.0 in /usr/local/lib/python3.10/dist-packages (from plotly>=5.0.0->dash) (8.3.0)\n",
            "Requirement already satisfied: packaging in /usr/local/lib/python3.10/dist-packages (from plotly>=5.0.0->dash) (24.0)\n",
            "Requirement already satisfied: MarkupSafe>=2.1.1 in /usr/local/lib/python3.10/dist-packages (from Werkzeug<3.1->dash) (2.1.5)\n",
            "Requirement already satisfied: zipp>=0.5 in /usr/local/lib/python3.10/dist-packages (from importlib-metadata->dash) (3.18.2)\n",
            "Requirement already satisfied: charset-normalizer<4,>=2 in /usr/local/lib/python3.10/dist-packages (from requests->dash) (3.3.2)\n",
            "Requirement already satisfied: idna<4,>=2.5 in /usr/local/lib/python3.10/dist-packages (from requests->dash) (3.7)\n",
            "Requirement already satisfied: urllib3<3,>=1.21.1 in /usr/local/lib/python3.10/dist-packages (from requests->dash) (2.0.7)\n",
            "Requirement already satisfied: certifi>=2017.4.17 in /usr/local/lib/python3.10/dist-packages (from requests->dash) (2024.2.2)\n",
            "Requirement already satisfied: six>=1.7.0 in /usr/local/lib/python3.10/dist-packages (from retrying->dash) (1.16.0)\n",
            "Collecting dash-bootstrap-components\n",
            "  Downloading dash_bootstrap_components-1.6.0-py3-none-any.whl (222 kB)\n",
            "\u001b[2K     \u001b[90m━━━━━━━━━━━━━━━━━━━━━━━━━━━━━━━━━━━━━━━━\u001b[0m \u001b[32m222.5/222.5 kB\u001b[0m \u001b[31m2.0 MB/s\u001b[0m eta \u001b[36m0:00:00\u001b[0m\n",
            "\u001b[?25hRequirement already satisfied: dash>=2.0.0 in /usr/local/lib/python3.10/dist-packages (from dash-bootstrap-components) (2.17.0)\n",
            "Requirement already satisfied: Flask<3.1,>=1.0.4 in /usr/local/lib/python3.10/dist-packages (from dash>=2.0.0->dash-bootstrap-components) (2.2.5)\n",
            "Requirement already satisfied: Werkzeug<3.1 in /usr/local/lib/python3.10/dist-packages (from dash>=2.0.0->dash-bootstrap-components) (3.0.3)\n",
            "Requirement already satisfied: plotly>=5.0.0 in /usr/local/lib/python3.10/dist-packages (from dash>=2.0.0->dash-bootstrap-components) (5.15.0)\n",
            "Requirement already satisfied: dash-html-components==2.0.0 in /usr/local/lib/python3.10/dist-packages (from dash>=2.0.0->dash-bootstrap-components) (2.0.0)\n",
            "Requirement already satisfied: dash-core-components==2.0.0 in /usr/local/lib/python3.10/dist-packages (from dash>=2.0.0->dash-bootstrap-components) (2.0.0)\n",
            "Requirement already satisfied: dash-table==5.0.0 in /usr/local/lib/python3.10/dist-packages (from dash>=2.0.0->dash-bootstrap-components) (5.0.0)\n",
            "Requirement already satisfied: importlib-metadata in /usr/local/lib/python3.10/dist-packages (from dash>=2.0.0->dash-bootstrap-components) (7.1.0)\n",
            "Requirement already satisfied: typing-extensions>=4.1.1 in /usr/local/lib/python3.10/dist-packages (from dash>=2.0.0->dash-bootstrap-components) (4.11.0)\n",
            "Requirement already satisfied: requests in /usr/local/lib/python3.10/dist-packages (from dash>=2.0.0->dash-bootstrap-components) (2.31.0)\n",
            "Requirement already satisfied: retrying in /usr/local/lib/python3.10/dist-packages (from dash>=2.0.0->dash-bootstrap-components) (1.3.4)\n",
            "Requirement already satisfied: nest-asyncio in /usr/local/lib/python3.10/dist-packages (from dash>=2.0.0->dash-bootstrap-components) (1.6.0)\n",
            "Requirement already satisfied: setuptools in /usr/local/lib/python3.10/dist-packages (from dash>=2.0.0->dash-bootstrap-components) (67.7.2)\n",
            "Requirement already satisfied: Jinja2>=3.0 in /usr/local/lib/python3.10/dist-packages (from Flask<3.1,>=1.0.4->dash>=2.0.0->dash-bootstrap-components) (3.1.4)\n",
            "Requirement already satisfied: itsdangerous>=2.0 in /usr/local/lib/python3.10/dist-packages (from Flask<3.1,>=1.0.4->dash>=2.0.0->dash-bootstrap-components) (2.2.0)\n",
            "Requirement already satisfied: click>=8.0 in /usr/local/lib/python3.10/dist-packages (from Flask<3.1,>=1.0.4->dash>=2.0.0->dash-bootstrap-components) (8.1.7)\n",
            "Requirement already satisfied: tenacity>=6.2.0 in /usr/local/lib/python3.10/dist-packages (from plotly>=5.0.0->dash>=2.0.0->dash-bootstrap-components) (8.3.0)\n",
            "Requirement already satisfied: packaging in /usr/local/lib/python3.10/dist-packages (from plotly>=5.0.0->dash>=2.0.0->dash-bootstrap-components) (24.0)\n",
            "Requirement already satisfied: MarkupSafe>=2.1.1 in /usr/local/lib/python3.10/dist-packages (from Werkzeug<3.1->dash>=2.0.0->dash-bootstrap-components) (2.1.5)\n",
            "Requirement already satisfied: zipp>=0.5 in /usr/local/lib/python3.10/dist-packages (from importlib-metadata->dash>=2.0.0->dash-bootstrap-components) (3.18.2)\n",
            "Requirement already satisfied: charset-normalizer<4,>=2 in /usr/local/lib/python3.10/dist-packages (from requests->dash>=2.0.0->dash-bootstrap-components) (3.3.2)\n",
            "Requirement already satisfied: idna<4,>=2.5 in /usr/local/lib/python3.10/dist-packages (from requests->dash>=2.0.0->dash-bootstrap-components) (3.7)\n",
            "Requirement already satisfied: urllib3<3,>=1.21.1 in /usr/local/lib/python3.10/dist-packages (from requests->dash>=2.0.0->dash-bootstrap-components) (2.0.7)\n",
            "Requirement already satisfied: certifi>=2017.4.17 in /usr/local/lib/python3.10/dist-packages (from requests->dash>=2.0.0->dash-bootstrap-components) (2024.2.2)\n",
            "Requirement already satisfied: six>=1.7.0 in /usr/local/lib/python3.10/dist-packages (from retrying->dash>=2.0.0->dash-bootstrap-components) (1.16.0)\n",
            "Installing collected packages: dash-bootstrap-components\n",
            "Successfully installed dash-bootstrap-components-1.6.0\n"
          ]
        }
      ],
      "source": [
        "!pip install dash\n",
        "!pip install dash-bootstrap-components"
      ]
    },
    {
      "cell_type": "code",
      "execution_count": null,
      "metadata": {
        "colab": {
          "base_uri": "https://localhost:8080/"
        },
        "id": "w9mvBPSvQSwR",
        "outputId": "10f5d0f9-df6f-432c-a801-21793df59ede"
      },
      "outputs": [
        {
          "name": "stdout",
          "output_type": "stream",
          "text": [
            "Drive already mounted at /content/drive; to attempt to forcibly remount, call drive.mount(\"/content/drive\", force_remount=True).\n"
          ]
        }
      ],
      "source": [
        "from dash import Dash, Input, Output\n",
        "from dash import html, dcc\n",
        "import dash_bootstrap_components as dbc\n",
        "import pandas as pd"
      ]
    },
    {
      "cell_type": "code",
      "execution_count": null,
      "metadata": {
        "id": "wQ1z6718SREV"
      },
      "outputs": [],
      "source": [
        "from dash import dash_table\n",
        "import plotly.graph_objects as go"
      ]
    },
    {
      "cell_type": "code",
      "execution_count": null,
      "metadata": {
        "id": "7yhJDUOnQQmK"
      },
      "outputs": [],
      "source": [
        "xlsx_path = './data.xlsx'\n",
        "\n",
        "# Read the CSV file into a DataFrame\n",
        "df = pd.read_excel(xlsx_path)\n"
      ]
    },
    {
      "cell_type": "code",
      "source": [
        "df = df.sort_values(by='Date')"
      ],
      "metadata": {
        "id": "8iTjI8Aro2rV"
      },
      "execution_count": null,
      "outputs": []
    },
    {
      "cell_type": "code",
      "source": [
        "df['Libellé'].unique()"
      ],
      "metadata": {
        "colab": {
          "base_uri": "https://localhost:8080/"
        },
        "id": "ysG-Qqjtme8w",
        "outputId": "3762b1be-502b-4ab4-abb5-e0d50d6f872d"
      },
      "execution_count": null,
      "outputs": [
        {
          "output_type": "execute_result",
          "data": {
            "text/plain": [
              "array(['AB SCIENCE', 'ABC ARBITRAGE', 'ACCOR', 'ADOCIA', 'ADP',\n",
              "       'AIR FRANCE - KLM', 'AIR LIQUIDE', 'AIRBUS', 'AKWEL', 'ALSTOM',\n",
              "       'ALTAMIR', 'ALTAREA', 'ALTEN', 'AMUNDI', 'ARGAN', 'ARKEMA',\n",
              "       'ARTMARKET.COM', 'ASSYSTEM', 'ATOS', 'AUBAY', 'AVENIR TELECOM',\n",
              "       'AXA', 'AXWAY SOFTWARE', 'AYVENS (ex ALD)', 'BAINS DE MER MONACO',\n",
              "       'BELIEVE', 'BENETEAU', 'BIC', 'BIGBEN INTERACTIVE', 'BIOMERIEUX',\n",
              "       'BNP PARIBAS', 'BOIRON', 'BOLLORE SE', 'BONDUELLE', 'BOUYGUES',\n",
              "       'BUREAU VERITAS', 'CAPGEMINI', 'CARMILA', 'CARREFOUR',\n",
              "       'CASINO GUICHARD PERRACHON', 'CATANA GROUP', 'CEGEDIM',\n",
              "       'CHARGEURS', 'CHRISTIAN DIOR', 'CIE DES ALPES',\n",
              "       'CIS (CATERING INTL SERVICES)', 'CLARANOVA', 'CLARIANE', 'COFACE',\n",
              "       \"COMP DE L'ODET\", 'COVIVIO', 'CREDIT AGRICOLE SA', 'CRIT',\n",
              "       'DANONE', 'DASSAULT AVIATION', 'DASSAULT SYSTEMES',\n",
              "       'DBV TECHNOLOGIES', 'DMS', 'EDENRED', 'EIFFAGE', 'EKINOPS',\n",
              "       'ELIOR GROUP', 'ELIS', 'EMEIS (EX ORPEA)', 'ENGIE', 'EQUASENS',\n",
              "       'ERAMET', 'ESSILORLUXOTTICA', 'EURAZEO', 'EUROAPI',\n",
              "       'EUROFINS SCIENTIFIC', 'EURONEXT', 'EUROPACORP',\n",
              "       'EUTELSAT COMMUNIC.', 'EXAIL TECHNOLOGIES', 'EXEL INDUSTRIES A',\n",
              "       'FDJ', 'FINANCIERE MONCEY', 'FNAC DARTY', 'FORVIA (EX FAURECIA)',\n",
              "       'GE AEROSPACE', 'GECINA', 'GENFIT', 'GETLINK (ex: EUROTUNNEL)',\n",
              "       'GL EVENTS', 'GTT (GAZTRANSPORT ET TEC.)', 'HAULOTTE GROUP',\n",
              "       'HERMES INTL', 'HEXAOM', 'ICADE', 'ID LOGISTICS', 'IMERYS',\n",
              "       'INNATE PHARMA', 'INTERPARFUMS', 'IPSEN', 'IPSOS',\n",
              "       'JACQUET METALS', 'JCDECAUX', 'KERING', 'KLEPIERRE', \"L'OREAL\",\n",
              "       'LAGARDERE SA', 'LDC', 'LECTRA', 'LEGRAND', 'LNA SANTE',\n",
              "       'LUMIBIRD', 'LVMH', 'M6 METROPOLE TELE.', 'MANITOU BF',\n",
              "       'MARIE BRIZARD', 'MAROC TELECOM', 'MAUREL & PROM', 'MERCIALYS',\n",
              "       'MERSEN', 'METABOLIC EXPLORER', 'MICHELIN', 'NANOBIOTIX', 'NEOEN',\n",
              "       'NEXANS', 'NEXITY', 'NICOX', 'NOKIA', 'OENEO', 'ORANGE',\n",
              "       'OSE IMMUNO', 'OVHCLOUD', 'PERNOD RICARD', 'PEUGEOT INVEST',\n",
              "       'PHAXIAM THERAPEUTICS', 'PIERRE ET VACANCES', 'PLASTIC OMNIUM',\n",
              "       'PLASTiVALOIRE', 'PROLOGUE', 'PUBLICIS GROUPE', 'QUADIENT',\n",
              "       'RALLYE', 'RAMSAY GENERALE', 'REMY COINTREAU', 'RENAULT', 'REXEL',\n",
              "       'RUBIS', 'SAFRAN', 'SAINT-GOBAIN', 'SANOFI',\n",
              "       'SARTORIUS STEDIM BIOTECH', 'SAVENCIA', 'SCHNEIDER ELECTRIC',\n",
              "       'SCOR', 'SEB', 'SECHE ENVIRON', 'SES', 'SLB', 'SOCIETE GENERALE',\n",
              "       'SODEXO', 'SOITEC', 'SOLOCAL GROUP', 'SOLUTIONS 30',\n",
              "       'SOPRA STERIA', 'SPIE', 'SQLI', 'STEF', 'STELLANTIS',\n",
              "       'STMICROELECTRONICS', 'SWORD GROUP', 'SYNERGIE',\n",
              "       'TECHNIP ENERGIES', 'TELEPERFORMANCE', 'TF1', 'TFF GROUP',\n",
              "       'THALES', 'TIKEHAU CAPITAL', 'TOTALENERGIES', 'TOUR EIFFEL',\n",
              "       'TRANSGENE', 'TRIGANO', 'UBISOFT ENTERTAIN.', 'VALEO',\n",
              "       'VALERIO THER. (EX ONXEO)', 'VALLOUREC', 'VALNEVA', 'VEOLIA',\n",
              "       'VERALLIA', 'VERIMATRIX', 'VETOQUINOL', 'VICAT', 'VINCI', 'VIRBAC',\n",
              "       'VIRIDIEN', 'VIVENDI', 'VOLTALIA', 'VRANKEN-POMMERY MO.',\n",
              "       'VUSIONGROUP', 'WAVESTONE', 'WENDEL', 'WORLDLINE', 'BTC',\n",
              "       'The Goldman Sachs Group, Inc.', 'Walmart Inc.',\n",
              "       'The Home Depot, Inc.', 'Honeywell International Inc.',\n",
              "       'salesforce.com, inc.', 'The Coca-Cola Company',\n",
              "       'Merck & Co., Inc.', 'Chevron Corporation', 'Apple Inc.',\n",
              "       'NIKE, Inc.', 'Walgreens Boots Alliance, Inc.',\n",
              "       'UnitedHealth Group Incorporated', 'Johnson & Johnson',\n",
              "       'Visa Inc.', 'JPMorgan Chase & Co.',\n",
              "       'The Procter & Gamble Company', 'The Walt Disney Company',\n",
              "       'Caterpillar Inc.', 'Verizon Communications Inc.',\n",
              "       'The Travelers Companies, Inc.', 'Cisco Systems, Inc.',\n",
              "       'American Express Company',\n",
              "       'International Business Machines Corporation',\n",
              "       'The Boeing Company', 'Microsoft Corporation', 'Amgen Inc.',\n",
              "       'Dow Inc.', '3M Company', 'Intel Corporation',\n",
              "       \"McDonald's Corporation\"], dtype=object)"
            ]
          },
          "metadata": {},
          "execution_count": 105
        }
      ]
    },
    {
      "cell_type": "code",
      "execution_count": null,
      "metadata": {
        "colab": {
          "base_uri": "https://localhost:8080/",
          "height": 671
        },
        "id": "_BbXa5OYDy0h",
        "outputId": "e87df866-7129-4cbb-8a89-b3870a5c4c16"
      },
      "outputs": [
        {
          "output_type": "display_data",
          "data": {
            "text/plain": [
              "<IPython.core.display.Javascript object>"
            ],
            "application/javascript": [
              "(async (port, path, width, height, cache, element) => {\n",
              "    if (!google.colab.kernel.accessAllowed && !cache) {\n",
              "      return;\n",
              "    }\n",
              "    element.appendChild(document.createTextNode(''));\n",
              "    const url = await google.colab.kernel.proxyPort(port, {cache});\n",
              "    const iframe = document.createElement('iframe');\n",
              "    iframe.src = new URL(path, url).toString();\n",
              "    iframe.height = height;\n",
              "    iframe.width = width;\n",
              "    iframe.style.border = 0;\n",
              "    iframe.allow = [\n",
              "        'accelerometer',\n",
              "        'autoplay',\n",
              "        'camera',\n",
              "        'clipboard-read',\n",
              "        'clipboard-write',\n",
              "        'gyroscope',\n",
              "        'magnetometer',\n",
              "        'microphone',\n",
              "        'serial',\n",
              "        'usb',\n",
              "        'xr-spatial-tracking',\n",
              "    ].join('; ');\n",
              "    element.appendChild(iframe);\n",
              "  })(8050, \"/\", \"100%\", 650, false, window.element)"
            ]
          },
          "metadata": {}
        }
      ],
      "source": [
        "home_layout = html.Div(\n",
        "    children=[\n",
        "        html.H1(children=\"This is what data look like\"),\n",
        "              dash_table.DataTable(\n",
        "              id='datatable',\n",
        "              columns=[{'name': col, 'id': col} for col in df.columns],\n",
        "              data=df.to_dict('records'))\n",
        "    ]\n",
        ")\n",
        "\n",
        "\n",
        "data_info_layout = html.Div(\n",
        "    children=[html.H1(children=\"Here you will find some informations about the data\"),\n",
        "              html.Div([\n",
        "              dash_table.DataTable(\n",
        "                id='InfoTable',\n",
        "                columns = [{'name': col, 'id': col} for col in df.describe().columns],\n",
        "                data=df.describe().to_dict('records')\n",
        "              ), html.H1(f'The shape of the data is'), html.P(str(df.shape))])\n",
        "             ]\n",
        "\n",
        ")\n",
        "\n",
        "droped_df = df.drop(['Libellé', 'Date'], axis=1)\n",
        "\n",
        "data_hist = html.Div(\n",
        "    children = [\n",
        "        html.H1(\"Here you will find some corelations between the variables\"),\n",
        "        html.Div([\n",
        "        dcc.Dropdown(\n",
        "            id='dataset-dropdown',\n",
        "            options=[\n",
        "                {'label': 'Close', 'value': 'Adj Close'},\n",
        "                {'label': 'Volume', 'value': 'Volume'},\n",
        "                {'label': 'Open', 'value': 'Open'},\n",
        "                {'label': 'High', 'value': 'High'},\n",
        "            ],\n",
        "            value='data1'  # Default selected value\n",
        "        )\n",
        "    ]),\n",
        "\n",
        "        dcc.Graph(\n",
        "        id='histogram',\n",
        "        figure={\n",
        "            'data': [go.Histogram(x=df['Adj Close'])],\n",
        "            'layout': go.Layout(title='Histogram')\n",
        "        }\n",
        "        )\n",
        "    ]\n",
        ")\n",
        "\n",
        "companies = [df[df[\"Libellé\"] == 'BTC'], df[df[\"Libellé\"] == 'Apple Inc.'], df[df[\"Libellé\"] == 'Microsoft Corporation'], df[df[\"Libellé\"] == 'NIKE, Inc.']]\n",
        "\n",
        "data_graph = html.Div(\n",
        "    children = [\n",
        "        html.H1(\"Here you will find some graph of closing values of some companies\"),\n",
        "        html.Div([\n",
        "        dcc.Dropdown(\n",
        "            id='dataset-dropdown2',\n",
        "            options=[\n",
        "                {'label': 'BTC', 'value': '0'},\n",
        "                {'label': 'APPLE', 'value': '1'},\n",
        "                {'label': 'MICROSOFT', 'value': '2'},\n",
        "                {'label': 'NIKE', 'value': '3'},\n",
        "            ],\n",
        "            value='data1'  # Default selected value\n",
        "        )\n",
        "    ]),\n",
        "        dcc.Graph(\n",
        "        id='line-plot',\n",
        "        figure={\n",
        "            'data': [go.Scatter(x=companies[0]['Date'], y=companies[0]['Adj Close'])],\n",
        "            'layout': go.Layout(title='Line Plot')\n",
        "        }\n",
        "    )\n",
        "    ]\n",
        ")\n",
        "\n",
        "\n",
        "app = Dash(__name__, external_stylesheets=[dbc.themes.BOOTSTRAP])\n",
        "\n",
        "navbar = dbc.NavbarSimple(\n",
        "    children=[\n",
        "        dbc.NavItem(dbc.NavLink(\"Home\", href=\"/\")),\n",
        "        dbc.NavItem(dbc.NavLink(\"Informations\", href=\"/data_information\")),\n",
        "        dbc.NavItem(dbc.NavLink(\"Histograms\", href=\"/Histograms\")),\n",
        "        dbc.NavItem(dbc.NavLink(\"Graphs\", href=\"/Graphs\")),\n",
        "    ],\n",
        "    brand=\"DashBoard For Stock Market Anlayse\",\n",
        "    color=\"dark\",\n",
        "    dark=True,\n",
        "    className=\"mb-2\",\n",
        ")\n",
        "\n",
        "app.layout = html.Div(\n",
        "    [\n",
        "        dcc.Location(id=\"url\", refresh=False),\n",
        "        navbar,\n",
        "        dbc.Container(id=\"page-content\", className=\"mb-4\", fluid=True),\n",
        "    ]\n",
        ")\n",
        "\n",
        "\n",
        "\n",
        "@app.callback(\n",
        "    Output('line-plot', 'figure'),\n",
        "    [Input('dataset-dropdown2', 'value')]\n",
        ")\n",
        "def update_graph(i):\n",
        "    return go.Figure(\n",
        "        data=[go.Scatter(x=companies[int(i)]['Date'], y=companies[int(i)]['Adj Close'])],\n",
        "        layout=go.Layout(title='Line Plot'))\n",
        "\n",
        "@app.callback(\n",
        "    Output('histogram', 'figure'),\n",
        "    [Input('dataset-dropdown', 'value')]\n",
        ")\n",
        "def update_histogram(selected_dataset):\n",
        "    return go.Figure(\n",
        "        data=[go.Histogram(x=df[selected_dataset])],\n",
        "        layout=go.Layout(title=selected_dataset))\n",
        "\n",
        "@app.callback(Output(\"page-content\", \"children\"), Input(\"url\", \"pathname\"))\n",
        "def display_page(pathname):\n",
        "    if pathname == \"/\":\n",
        "        return home_layout\n",
        "    elif pathname == \"/data_information\":\n",
        "        return data_info_layout\n",
        "    elif pathname == \"/Histograms\":\n",
        "        return data_hist\n",
        "    elif pathname == \"/Graphs\":\n",
        "        return data_graph\n",
        "    else:\n",
        "        return dbc.Jumbotron(\n",
        "            [\n",
        "                html.H1(\"404: Not found\", className=\"text-danger\"),\n",
        "                html.Hr(),\n",
        "                html.P(f\"The pathname {pathname} was not recognized...\"),\n",
        "            ]\n",
        "        )\n",
        "\n",
        "\n",
        "if __name__ == \"__main__\":\n",
        "    app.run_server(debug=True)"
      ]
    }
  ],
  "metadata": {
    "colab": {
      "provenance": []
    },
    "kernelspec": {
      "display_name": "Python 3",
      "name": "python3"
    },
    "language_info": {
      "name": "python"
    }
  },
  "nbformat": 4,
  "nbformat_minor": 0
}