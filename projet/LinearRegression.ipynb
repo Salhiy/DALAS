{
  "nbformat": 4,
  "nbformat_minor": 0,
  "metadata": {
    "colab": {
      "provenance": []
    },
    "kernelspec": {
      "name": "python3",
      "display_name": "Python 3"
    },
    "language_info": {
      "name": "python"
    }
  },
  "cells": [
    {
      "cell_type": "code",
      "execution_count": null,
      "metadata": {
        "colab": {
          "base_uri": "https://localhost:8080/"
        },
        "id": "g9WF5hJqOnwf",
        "outputId": "1b0694ec-b86d-4bee-9786-e7c5c4263d80"
      },
      "outputs": [
        {
          "output_type": "stream",
          "name": "stdout",
          "text": [
            "Requirement already satisfied: pandas-ta in /usr/local/lib/python3.10/dist-packages (0.3.14b0)\n",
            "Requirement already satisfied: pandas in /usr/local/lib/python3.10/dist-packages (from pandas-ta) (2.0.3)\n",
            "Requirement already satisfied: python-dateutil>=2.8.2 in /usr/local/lib/python3.10/dist-packages (from pandas->pandas-ta) (2.8.2)\n",
            "Requirement already satisfied: pytz>=2020.1 in /usr/local/lib/python3.10/dist-packages (from pandas->pandas-ta) (2023.4)\n",
            "Requirement already satisfied: tzdata>=2022.1 in /usr/local/lib/python3.10/dist-packages (from pandas->pandas-ta) (2024.1)\n",
            "Requirement already satisfied: numpy>=1.21.0 in /usr/local/lib/python3.10/dist-packages (from pandas->pandas-ta) (1.25.2)\n",
            "Requirement already satisfied: six>=1.5 in /usr/local/lib/python3.10/dist-packages (from python-dateutil>=2.8.2->pandas->pandas-ta) (1.16.0)\n"
          ]
        }
      ],
      "source": [
        "!pip install pandas-ta"
      ]
    },
    {
      "cell_type": "code",
      "source": [
        "import pandas_ta as ta\n",
        "import pandas as pd\n",
        "from sklearn.model_selection import train_test_split\n",
        "from sklearn.linear_model import LinearRegression\n",
        "from sklearn.metrics import mean_squared_error, r2_score\n",
        "from sklearn.preprocessing import MinMaxScaler\n",
        "import matplotlib.pyplot as plt"
      ],
      "metadata": {
        "id": "uGvDBWuUPgYX"
      },
      "execution_count": null,
      "outputs": []
    },
    {
      "cell_type": "code",
      "source": [
        "file_path = './data.xlsx'\n",
        "data = pd.read_excel(file_path)"
      ],
      "metadata": {
        "id": "Hf9sCaS9Qxvt"
      },
      "execution_count": null,
      "outputs": []
    },
    {
      "cell_type": "code",
      "source": [
        "data = data.sort_values(by='Date', ascending=True)"
      ],
      "metadata": {
        "id": "RiCmOEJGQ0MO"
      },
      "execution_count": null,
      "outputs": []
    },
    {
      "cell_type": "code",
      "source": [
        "data.info()"
      ],
      "metadata": {
        "colab": {
          "base_uri": "https://localhost:8080/"
        },
        "id": "Nralkhp4Q5_A",
        "outputId": "2bb2d534-6688-42c7-8ff3-b72ebddc01fb"
      },
      "execution_count": null,
      "outputs": [
        {
          "output_type": "stream",
          "name": "stdout",
          "text": [
            "<class 'pandas.core.frame.DataFrame'>\n",
            "Index: 104411 entries, 72944 to 0\n",
            "Data columns (total 7 columns):\n",
            " #   Column     Non-Null Count   Dtype  \n",
            "---  ------     --------------   -----  \n",
            " 0   Libellé    104411 non-null  object \n",
            " 1   Adj Close  104411 non-null  float64\n",
            " 2   Open       104411 non-null  float64\n",
            " 3   High       104411 non-null  float64\n",
            " 4   Low        104411 non-null  float64\n",
            " 5   Volume     104411 non-null  int64  \n",
            " 6   Date       104411 non-null  object \n",
            "dtypes: float64(4), int64(1), object(2)\n",
            "memory usage: 6.4+ MB\n"
          ]
        }
      ]
    },
    {
      "cell_type": "markdown",
      "source": [
        "#Add some indicators"
      ],
      "metadata": {
        "id": "XokQmkE8Rmfo"
      }
    },
    {
      "cell_type": "code",
      "source": [
        "data['RSI'] = ta.rsi(data['Adj Close'], lenght=15)\n",
        "data['EMAF'] = ta.ema(data['Adj Close'], lenght=20)\n",
        "data['EMAM'] = ta.ema(data['Adj Close'], lenght=100)\n",
        "data['EMAS'] = ta.ema(data['Adj Close'], lenght=150)"
      ],
      "metadata": {
        "id": "GfewFhE1Rium"
      },
      "execution_count": null,
      "outputs": []
    },
    {
      "cell_type": "code",
      "source": [
        "data.dropna(inplace=True)\n",
        "data.head(10)"
      ],
      "metadata": {
        "colab": {
          "base_uri": "https://localhost:8080/",
          "height": 363
        },
        "id": "XnV2MV3hR8nu",
        "outputId": "7be69815-bb9a-43c2-f63b-b5d45dcda67c"
      },
      "execution_count": null,
      "outputs": [
        {
          "output_type": "execute_result",
          "data": {
            "text/plain": [
              "                              Libellé  Adj Close       Open       High  \\\n",
              "47577               Intel Corporation   9.237072  14.710000  14.920000   \n",
              "89107  Walgreens Boots Alliance, Inc.  15.590836  23.959999  24.850000   \n",
              "71832                      NIKE, Inc.  10.537296  12.452500  12.887500   \n",
              "80514                      Amgen Inc.  41.222195  57.110001  58.220001   \n",
              "33604   The Goldman Sachs Group, Inc.  65.295494  82.239998  86.150002   \n",
              "78162         The Walt Disney Company  19.474873  22.570000  22.950001   \n",
              "66415    Honeywell International Inc.  21.998686  31.089380  31.747206   \n",
              "77176           Microsoft Corporation  14.354466  19.309999  19.680000   \n",
              "72434             Cisco Systems, Inc.  11.053832  16.180000  16.549999   \n",
              "13372    The Procter & Gamble Company  39.121574  61.349998  62.200001   \n",
              "\n",
              "             Low    Volume        Date        RSI       EMAF       EMAM  \\\n",
              "47577  14.560000  34063800  2008-12-31  46.291687  19.482946  19.482946   \n",
              "89107  23.940001   6572600  2008-12-31  48.668393  18.775290  18.775290   \n",
              "71832  12.385000  15089600  2008-12-31  46.891042  17.277473  17.277473   \n",
              "80514  57.060001   6287200  2008-12-31  57.128812  21.631059  21.631059   \n",
              "33604  81.120003  14894100  2008-12-31  63.133198  29.570047  29.570047   \n",
              "78162  22.520000   9012100  2008-12-31  49.051237  27.734561  27.734561   \n",
              "66415  31.070313   5113337  2008-12-31  49.716528  26.691674  26.691674   \n",
              "77176  19.270000  46419000  2008-12-31  47.685460  24.448546  24.448546   \n",
              "72434  16.120001  37513700  2008-12-31  46.796492  22.013143  22.013143   \n",
              "13372  61.070000  10844800  2008-12-31  54.555040  25.123767  25.123767   \n",
              "\n",
              "            EMAS  \n",
              "47577  19.482946  \n",
              "89107  18.775290  \n",
              "71832  17.277473  \n",
              "80514  21.631059  \n",
              "33604  29.570047  \n",
              "78162  27.734561  \n",
              "66415  26.691674  \n",
              "77176  24.448546  \n",
              "72434  22.013143  \n",
              "13372  25.123767  "
            ],
            "text/html": [
              "\n",
              "  <div id=\"df-6b6468e1-d67c-41ea-a3e6-41748ae4efe4\" class=\"colab-df-container\">\n",
              "    <div>\n",
              "<style scoped>\n",
              "    .dataframe tbody tr th:only-of-type {\n",
              "        vertical-align: middle;\n",
              "    }\n",
              "\n",
              "    .dataframe tbody tr th {\n",
              "        vertical-align: top;\n",
              "    }\n",
              "\n",
              "    .dataframe thead th {\n",
              "        text-align: right;\n",
              "    }\n",
              "</style>\n",
              "<table border=\"1\" class=\"dataframe\">\n",
              "  <thead>\n",
              "    <tr style=\"text-align: right;\">\n",
              "      <th></th>\n",
              "      <th>Libellé</th>\n",
              "      <th>Adj Close</th>\n",
              "      <th>Open</th>\n",
              "      <th>High</th>\n",
              "      <th>Low</th>\n",
              "      <th>Volume</th>\n",
              "      <th>Date</th>\n",
              "      <th>RSI</th>\n",
              "      <th>EMAF</th>\n",
              "      <th>EMAM</th>\n",
              "      <th>EMAS</th>\n",
              "    </tr>\n",
              "  </thead>\n",
              "  <tbody>\n",
              "    <tr>\n",
              "      <th>47577</th>\n",
              "      <td>Intel Corporation</td>\n",
              "      <td>9.237072</td>\n",
              "      <td>14.710000</td>\n",
              "      <td>14.920000</td>\n",
              "      <td>14.560000</td>\n",
              "      <td>34063800</td>\n",
              "      <td>2008-12-31</td>\n",
              "      <td>46.291687</td>\n",
              "      <td>19.482946</td>\n",
              "      <td>19.482946</td>\n",
              "      <td>19.482946</td>\n",
              "    </tr>\n",
              "    <tr>\n",
              "      <th>89107</th>\n",
              "      <td>Walgreens Boots Alliance, Inc.</td>\n",
              "      <td>15.590836</td>\n",
              "      <td>23.959999</td>\n",
              "      <td>24.850000</td>\n",
              "      <td>23.940001</td>\n",
              "      <td>6572600</td>\n",
              "      <td>2008-12-31</td>\n",
              "      <td>48.668393</td>\n",
              "      <td>18.775290</td>\n",
              "      <td>18.775290</td>\n",
              "      <td>18.775290</td>\n",
              "    </tr>\n",
              "    <tr>\n",
              "      <th>71832</th>\n",
              "      <td>NIKE, Inc.</td>\n",
              "      <td>10.537296</td>\n",
              "      <td>12.452500</td>\n",
              "      <td>12.887500</td>\n",
              "      <td>12.385000</td>\n",
              "      <td>15089600</td>\n",
              "      <td>2008-12-31</td>\n",
              "      <td>46.891042</td>\n",
              "      <td>17.277473</td>\n",
              "      <td>17.277473</td>\n",
              "      <td>17.277473</td>\n",
              "    </tr>\n",
              "    <tr>\n",
              "      <th>80514</th>\n",
              "      <td>Amgen Inc.</td>\n",
              "      <td>41.222195</td>\n",
              "      <td>57.110001</td>\n",
              "      <td>58.220001</td>\n",
              "      <td>57.060001</td>\n",
              "      <td>6287200</td>\n",
              "      <td>2008-12-31</td>\n",
              "      <td>57.128812</td>\n",
              "      <td>21.631059</td>\n",
              "      <td>21.631059</td>\n",
              "      <td>21.631059</td>\n",
              "    </tr>\n",
              "    <tr>\n",
              "      <th>33604</th>\n",
              "      <td>The Goldman Sachs Group, Inc.</td>\n",
              "      <td>65.295494</td>\n",
              "      <td>82.239998</td>\n",
              "      <td>86.150002</td>\n",
              "      <td>81.120003</td>\n",
              "      <td>14894100</td>\n",
              "      <td>2008-12-31</td>\n",
              "      <td>63.133198</td>\n",
              "      <td>29.570047</td>\n",
              "      <td>29.570047</td>\n",
              "      <td>29.570047</td>\n",
              "    </tr>\n",
              "    <tr>\n",
              "      <th>78162</th>\n",
              "      <td>The Walt Disney Company</td>\n",
              "      <td>19.474873</td>\n",
              "      <td>22.570000</td>\n",
              "      <td>22.950001</td>\n",
              "      <td>22.520000</td>\n",
              "      <td>9012100</td>\n",
              "      <td>2008-12-31</td>\n",
              "      <td>49.051237</td>\n",
              "      <td>27.734561</td>\n",
              "      <td>27.734561</td>\n",
              "      <td>27.734561</td>\n",
              "    </tr>\n",
              "    <tr>\n",
              "      <th>66415</th>\n",
              "      <td>Honeywell International Inc.</td>\n",
              "      <td>21.998686</td>\n",
              "      <td>31.089380</td>\n",
              "      <td>31.747206</td>\n",
              "      <td>31.070313</td>\n",
              "      <td>5113337</td>\n",
              "      <td>2008-12-31</td>\n",
              "      <td>49.716528</td>\n",
              "      <td>26.691674</td>\n",
              "      <td>26.691674</td>\n",
              "      <td>26.691674</td>\n",
              "    </tr>\n",
              "    <tr>\n",
              "      <th>77176</th>\n",
              "      <td>Microsoft Corporation</td>\n",
              "      <td>14.354466</td>\n",
              "      <td>19.309999</td>\n",
              "      <td>19.680000</td>\n",
              "      <td>19.270000</td>\n",
              "      <td>46419000</td>\n",
              "      <td>2008-12-31</td>\n",
              "      <td>47.685460</td>\n",
              "      <td>24.448546</td>\n",
              "      <td>24.448546</td>\n",
              "      <td>24.448546</td>\n",
              "    </tr>\n",
              "    <tr>\n",
              "      <th>72434</th>\n",
              "      <td>Cisco Systems, Inc.</td>\n",
              "      <td>11.053832</td>\n",
              "      <td>16.180000</td>\n",
              "      <td>16.549999</td>\n",
              "      <td>16.120001</td>\n",
              "      <td>37513700</td>\n",
              "      <td>2008-12-31</td>\n",
              "      <td>46.796492</td>\n",
              "      <td>22.013143</td>\n",
              "      <td>22.013143</td>\n",
              "      <td>22.013143</td>\n",
              "    </tr>\n",
              "    <tr>\n",
              "      <th>13372</th>\n",
              "      <td>The Procter &amp; Gamble Company</td>\n",
              "      <td>39.121574</td>\n",
              "      <td>61.349998</td>\n",
              "      <td>62.200001</td>\n",
              "      <td>61.070000</td>\n",
              "      <td>10844800</td>\n",
              "      <td>2008-12-31</td>\n",
              "      <td>54.555040</td>\n",
              "      <td>25.123767</td>\n",
              "      <td>25.123767</td>\n",
              "      <td>25.123767</td>\n",
              "    </tr>\n",
              "  </tbody>\n",
              "</table>\n",
              "</div>\n",
              "    <div class=\"colab-df-buttons\">\n",
              "\n",
              "  <div class=\"colab-df-container\">\n",
              "    <button class=\"colab-df-convert\" onclick=\"convertToInteractive('df-6b6468e1-d67c-41ea-a3e6-41748ae4efe4')\"\n",
              "            title=\"Convert this dataframe to an interactive table.\"\n",
              "            style=\"display:none;\">\n",
              "\n",
              "  <svg xmlns=\"http://www.w3.org/2000/svg\" height=\"24px\" viewBox=\"0 -960 960 960\">\n",
              "    <path d=\"M120-120v-720h720v720H120Zm60-500h600v-160H180v160Zm220 220h160v-160H400v160Zm0 220h160v-160H400v160ZM180-400h160v-160H180v160Zm440 0h160v-160H620v160ZM180-180h160v-160H180v160Zm440 0h160v-160H620v160Z\"/>\n",
              "  </svg>\n",
              "    </button>\n",
              "\n",
              "  <style>\n",
              "    .colab-df-container {\n",
              "      display:flex;\n",
              "      gap: 12px;\n",
              "    }\n",
              "\n",
              "    .colab-df-convert {\n",
              "      background-color: #E8F0FE;\n",
              "      border: none;\n",
              "      border-radius: 50%;\n",
              "      cursor: pointer;\n",
              "      display: none;\n",
              "      fill: #1967D2;\n",
              "      height: 32px;\n",
              "      padding: 0 0 0 0;\n",
              "      width: 32px;\n",
              "    }\n",
              "\n",
              "    .colab-df-convert:hover {\n",
              "      background-color: #E2EBFA;\n",
              "      box-shadow: 0px 1px 2px rgba(60, 64, 67, 0.3), 0px 1px 3px 1px rgba(60, 64, 67, 0.15);\n",
              "      fill: #174EA6;\n",
              "    }\n",
              "\n",
              "    .colab-df-buttons div {\n",
              "      margin-bottom: 4px;\n",
              "    }\n",
              "\n",
              "    [theme=dark] .colab-df-convert {\n",
              "      background-color: #3B4455;\n",
              "      fill: #D2E3FC;\n",
              "    }\n",
              "\n",
              "    [theme=dark] .colab-df-convert:hover {\n",
              "      background-color: #434B5C;\n",
              "      box-shadow: 0px 1px 3px 1px rgba(0, 0, 0, 0.15);\n",
              "      filter: drop-shadow(0px 1px 2px rgba(0, 0, 0, 0.3));\n",
              "      fill: #FFFFFF;\n",
              "    }\n",
              "  </style>\n",
              "\n",
              "    <script>\n",
              "      const buttonEl =\n",
              "        document.querySelector('#df-6b6468e1-d67c-41ea-a3e6-41748ae4efe4 button.colab-df-convert');\n",
              "      buttonEl.style.display =\n",
              "        google.colab.kernel.accessAllowed ? 'block' : 'none';\n",
              "\n",
              "      async function convertToInteractive(key) {\n",
              "        const element = document.querySelector('#df-6b6468e1-d67c-41ea-a3e6-41748ae4efe4');\n",
              "        const dataTable =\n",
              "          await google.colab.kernel.invokeFunction('convertToInteractive',\n",
              "                                                    [key], {});\n",
              "        if (!dataTable) return;\n",
              "\n",
              "        const docLinkHtml = 'Like what you see? Visit the ' +\n",
              "          '<a target=\"_blank\" href=https://colab.research.google.com/notebooks/data_table.ipynb>data table notebook</a>'\n",
              "          + ' to learn more about interactive tables.';\n",
              "        element.innerHTML = '';\n",
              "        dataTable['output_type'] = 'display_data';\n",
              "        await google.colab.output.renderOutput(dataTable, element);\n",
              "        const docLink = document.createElement('div');\n",
              "        docLink.innerHTML = docLinkHtml;\n",
              "        element.appendChild(docLink);\n",
              "      }\n",
              "    </script>\n",
              "  </div>\n",
              "\n",
              "\n",
              "<div id=\"df-89b092ea-4e9e-4ce0-8c6d-1a0385339815\">\n",
              "  <button class=\"colab-df-quickchart\" onclick=\"quickchart('df-89b092ea-4e9e-4ce0-8c6d-1a0385339815')\"\n",
              "            title=\"Suggest charts\"\n",
              "            style=\"display:none;\">\n",
              "\n",
              "<svg xmlns=\"http://www.w3.org/2000/svg\" height=\"24px\"viewBox=\"0 0 24 24\"\n",
              "     width=\"24px\">\n",
              "    <g>\n",
              "        <path d=\"M19 3H5c-1.1 0-2 .9-2 2v14c0 1.1.9 2 2 2h14c1.1 0 2-.9 2-2V5c0-1.1-.9-2-2-2zM9 17H7v-7h2v7zm4 0h-2V7h2v10zm4 0h-2v-4h2v4z\"/>\n",
              "    </g>\n",
              "</svg>\n",
              "  </button>\n",
              "\n",
              "<style>\n",
              "  .colab-df-quickchart {\n",
              "      --bg-color: #E8F0FE;\n",
              "      --fill-color: #1967D2;\n",
              "      --hover-bg-color: #E2EBFA;\n",
              "      --hover-fill-color: #174EA6;\n",
              "      --disabled-fill-color: #AAA;\n",
              "      --disabled-bg-color: #DDD;\n",
              "  }\n",
              "\n",
              "  [theme=dark] .colab-df-quickchart {\n",
              "      --bg-color: #3B4455;\n",
              "      --fill-color: #D2E3FC;\n",
              "      --hover-bg-color: #434B5C;\n",
              "      --hover-fill-color: #FFFFFF;\n",
              "      --disabled-bg-color: #3B4455;\n",
              "      --disabled-fill-color: #666;\n",
              "  }\n",
              "\n",
              "  .colab-df-quickchart {\n",
              "    background-color: var(--bg-color);\n",
              "    border: none;\n",
              "    border-radius: 50%;\n",
              "    cursor: pointer;\n",
              "    display: none;\n",
              "    fill: var(--fill-color);\n",
              "    height: 32px;\n",
              "    padding: 0;\n",
              "    width: 32px;\n",
              "  }\n",
              "\n",
              "  .colab-df-quickchart:hover {\n",
              "    background-color: var(--hover-bg-color);\n",
              "    box-shadow: 0 1px 2px rgba(60, 64, 67, 0.3), 0 1px 3px 1px rgba(60, 64, 67, 0.15);\n",
              "    fill: var(--button-hover-fill-color);\n",
              "  }\n",
              "\n",
              "  .colab-df-quickchart-complete:disabled,\n",
              "  .colab-df-quickchart-complete:disabled:hover {\n",
              "    background-color: var(--disabled-bg-color);\n",
              "    fill: var(--disabled-fill-color);\n",
              "    box-shadow: none;\n",
              "  }\n",
              "\n",
              "  .colab-df-spinner {\n",
              "    border: 2px solid var(--fill-color);\n",
              "    border-color: transparent;\n",
              "    border-bottom-color: var(--fill-color);\n",
              "    animation:\n",
              "      spin 1s steps(1) infinite;\n",
              "  }\n",
              "\n",
              "  @keyframes spin {\n",
              "    0% {\n",
              "      border-color: transparent;\n",
              "      border-bottom-color: var(--fill-color);\n",
              "      border-left-color: var(--fill-color);\n",
              "    }\n",
              "    20% {\n",
              "      border-color: transparent;\n",
              "      border-left-color: var(--fill-color);\n",
              "      border-top-color: var(--fill-color);\n",
              "    }\n",
              "    30% {\n",
              "      border-color: transparent;\n",
              "      border-left-color: var(--fill-color);\n",
              "      border-top-color: var(--fill-color);\n",
              "      border-right-color: var(--fill-color);\n",
              "    }\n",
              "    40% {\n",
              "      border-color: transparent;\n",
              "      border-right-color: var(--fill-color);\n",
              "      border-top-color: var(--fill-color);\n",
              "    }\n",
              "    60% {\n",
              "      border-color: transparent;\n",
              "      border-right-color: var(--fill-color);\n",
              "    }\n",
              "    80% {\n",
              "      border-color: transparent;\n",
              "      border-right-color: var(--fill-color);\n",
              "      border-bottom-color: var(--fill-color);\n",
              "    }\n",
              "    90% {\n",
              "      border-color: transparent;\n",
              "      border-bottom-color: var(--fill-color);\n",
              "    }\n",
              "  }\n",
              "</style>\n",
              "\n",
              "  <script>\n",
              "    async function quickchart(key) {\n",
              "      const quickchartButtonEl =\n",
              "        document.querySelector('#' + key + ' button');\n",
              "      quickchartButtonEl.disabled = true;  // To prevent multiple clicks.\n",
              "      quickchartButtonEl.classList.add('colab-df-spinner');\n",
              "      try {\n",
              "        const charts = await google.colab.kernel.invokeFunction(\n",
              "            'suggestCharts', [key], {});\n",
              "      } catch (error) {\n",
              "        console.error('Error during call to suggestCharts:', error);\n",
              "      }\n",
              "      quickchartButtonEl.classList.remove('colab-df-spinner');\n",
              "      quickchartButtonEl.classList.add('colab-df-quickchart-complete');\n",
              "    }\n",
              "    (() => {\n",
              "      let quickchartButtonEl =\n",
              "        document.querySelector('#df-89b092ea-4e9e-4ce0-8c6d-1a0385339815 button');\n",
              "      quickchartButtonEl.style.display =\n",
              "        google.colab.kernel.accessAllowed ? 'block' : 'none';\n",
              "    })();\n",
              "  </script>\n",
              "</div>\n",
              "    </div>\n",
              "  </div>\n"
            ],
            "application/vnd.google.colaboratory.intrinsic+json": {
              "type": "dataframe",
              "variable_name": "data"
            }
          },
          "metadata": {},
          "execution_count": 86
        }
      ]
    },
    {
      "cell_type": "code",
      "source": [
        "data_droped = data.drop([\"Date\", \"Libellé\"], axis=1)"
      ],
      "metadata": {
        "id": "tjzvIEPrZIXO"
      },
      "execution_count": null,
      "outputs": []
    },
    {
      "cell_type": "code",
      "source": [
        "data_droped.shape"
      ],
      "metadata": {
        "colab": {
          "base_uri": "https://localhost:8080/"
        },
        "id": "rGk65mwaSiTR",
        "outputId": "60b61c22-4460-46df-bf8f-95dba0600f45"
      },
      "execution_count": null,
      "outputs": [
        {
          "output_type": "execute_result",
          "data": {
            "text/plain": [
              "(104397, 9)"
            ]
          },
          "metadata": {},
          "execution_count": 88
        }
      ]
    },
    {
      "cell_type": "code",
      "source": [
        "scaler = MinMaxScaler()\n",
        "data_scaled = scaler.fit_transform(data_droped)"
      ],
      "metadata": {
        "id": "I1Yy54qkTPzl"
      },
      "execution_count": null,
      "outputs": []
    },
    {
      "cell_type": "code",
      "source": [
        "data_scaled.shape"
      ],
      "metadata": {
        "colab": {
          "base_uri": "https://localhost:8080/"
        },
        "id": "EQB7yu6ATcmK",
        "outputId": "e58bf41a-4184-4017-c78a-ba0007edf364"
      },
      "execution_count": null,
      "outputs": [
        {
          "output_type": "execute_result",
          "data": {
            "text/plain": [
              "(104397, 9)"
            ]
          },
          "metadata": {},
          "execution_count": 27
        }
      ]
    },
    {
      "cell_type": "code",
      "source": [
        "X, y = data_scaled[:, 1:], data_scaled[:, 0]"
      ],
      "metadata": {
        "id": "gG-Zd6UBStM_"
      },
      "execution_count": null,
      "outputs": []
    },
    {
      "cell_type": "code",
      "source": [
        "model = LinearRegression()"
      ],
      "metadata": {
        "id": "0tKRkRCxSofc"
      },
      "execution_count": null,
      "outputs": []
    },
    {
      "cell_type": "code",
      "source": [
        "X_train, X_test, Y_train, Y_test = train_test_split(X, y, test_size=0.2, random_state=42)"
      ],
      "metadata": {
        "id": "s9qn0i1sUVr5"
      },
      "execution_count": null,
      "outputs": []
    },
    {
      "cell_type": "code",
      "source": [
        "model.fit(X_train, Y_train)"
      ],
      "metadata": {
        "colab": {
          "base_uri": "https://localhost:8080/",
          "height": 75
        },
        "id": "N8603jbSUXo_",
        "outputId": "dacf76a3-8fd5-42d2-c79b-72fe7a332ef7"
      },
      "execution_count": null,
      "outputs": [
        {
          "output_type": "execute_result",
          "data": {
            "text/plain": [
              "LinearRegression()"
            ],
            "text/html": [
              "<style>#sk-container-id-1 {color: black;background-color: white;}#sk-container-id-1 pre{padding: 0;}#sk-container-id-1 div.sk-toggleable {background-color: white;}#sk-container-id-1 label.sk-toggleable__label {cursor: pointer;display: block;width: 100%;margin-bottom: 0;padding: 0.3em;box-sizing: border-box;text-align: center;}#sk-container-id-1 label.sk-toggleable__label-arrow:before {content: \"▸\";float: left;margin-right: 0.25em;color: #696969;}#sk-container-id-1 label.sk-toggleable__label-arrow:hover:before {color: black;}#sk-container-id-1 div.sk-estimator:hover label.sk-toggleable__label-arrow:before {color: black;}#sk-container-id-1 div.sk-toggleable__content {max-height: 0;max-width: 0;overflow: hidden;text-align: left;background-color: #f0f8ff;}#sk-container-id-1 div.sk-toggleable__content pre {margin: 0.2em;color: black;border-radius: 0.25em;background-color: #f0f8ff;}#sk-container-id-1 input.sk-toggleable__control:checked~div.sk-toggleable__content {max-height: 200px;max-width: 100%;overflow: auto;}#sk-container-id-1 input.sk-toggleable__control:checked~label.sk-toggleable__label-arrow:before {content: \"▾\";}#sk-container-id-1 div.sk-estimator input.sk-toggleable__control:checked~label.sk-toggleable__label {background-color: #d4ebff;}#sk-container-id-1 div.sk-label input.sk-toggleable__control:checked~label.sk-toggleable__label {background-color: #d4ebff;}#sk-container-id-1 input.sk-hidden--visually {border: 0;clip: rect(1px 1px 1px 1px);clip: rect(1px, 1px, 1px, 1px);height: 1px;margin: -1px;overflow: hidden;padding: 0;position: absolute;width: 1px;}#sk-container-id-1 div.sk-estimator {font-family: monospace;background-color: #f0f8ff;border: 1px dotted black;border-radius: 0.25em;box-sizing: border-box;margin-bottom: 0.5em;}#sk-container-id-1 div.sk-estimator:hover {background-color: #d4ebff;}#sk-container-id-1 div.sk-parallel-item::after {content: \"\";width: 100%;border-bottom: 1px solid gray;flex-grow: 1;}#sk-container-id-1 div.sk-label:hover label.sk-toggleable__label {background-color: #d4ebff;}#sk-container-id-1 div.sk-serial::before {content: \"\";position: absolute;border-left: 1px solid gray;box-sizing: border-box;top: 0;bottom: 0;left: 50%;z-index: 0;}#sk-container-id-1 div.sk-serial {display: flex;flex-direction: column;align-items: center;background-color: white;padding-right: 0.2em;padding-left: 0.2em;position: relative;}#sk-container-id-1 div.sk-item {position: relative;z-index: 1;}#sk-container-id-1 div.sk-parallel {display: flex;align-items: stretch;justify-content: center;background-color: white;position: relative;}#sk-container-id-1 div.sk-item::before, #sk-container-id-1 div.sk-parallel-item::before {content: \"\";position: absolute;border-left: 1px solid gray;box-sizing: border-box;top: 0;bottom: 0;left: 50%;z-index: -1;}#sk-container-id-1 div.sk-parallel-item {display: flex;flex-direction: column;z-index: 1;position: relative;background-color: white;}#sk-container-id-1 div.sk-parallel-item:first-child::after {align-self: flex-end;width: 50%;}#sk-container-id-1 div.sk-parallel-item:last-child::after {align-self: flex-start;width: 50%;}#sk-container-id-1 div.sk-parallel-item:only-child::after {width: 0;}#sk-container-id-1 div.sk-dashed-wrapped {border: 1px dashed gray;margin: 0 0.4em 0.5em 0.4em;box-sizing: border-box;padding-bottom: 0.4em;background-color: white;}#sk-container-id-1 div.sk-label label {font-family: monospace;font-weight: bold;display: inline-block;line-height: 1.2em;}#sk-container-id-1 div.sk-label-container {text-align: center;}#sk-container-id-1 div.sk-container {/* jupyter's `normalize.less` sets `[hidden] { display: none; }` but bootstrap.min.css set `[hidden] { display: none !important; }` so we also need the `!important` here to be able to override the default hidden behavior on the sphinx rendered scikit-learn.org. See: https://github.com/scikit-learn/scikit-learn/issues/21755 */display: inline-block !important;position: relative;}#sk-container-id-1 div.sk-text-repr-fallback {display: none;}</style><div id=\"sk-container-id-1\" class=\"sk-top-container\"><div class=\"sk-text-repr-fallback\"><pre>LinearRegression()</pre><b>In a Jupyter environment, please rerun this cell to show the HTML representation or trust the notebook. <br />On GitHub, the HTML representation is unable to render, please try loading this page with nbviewer.org.</b></div><div class=\"sk-container\" hidden><div class=\"sk-item\"><div class=\"sk-estimator sk-toggleable\"><input class=\"sk-toggleable__control sk-hidden--visually\" id=\"sk-estimator-id-1\" type=\"checkbox\" checked><label for=\"sk-estimator-id-1\" class=\"sk-toggleable__label sk-toggleable__label-arrow\">LinearRegression</label><div class=\"sk-toggleable__content\"><pre>LinearRegression()</pre></div></div></div></div></div>"
            ]
          },
          "metadata": {},
          "execution_count": 37
        }
      ]
    },
    {
      "cell_type": "code",
      "source": [
        "Y_pred_train = model.predict(X_train)\n",
        "Y_pred_test = model.predict(X_test)"
      ],
      "metadata": {
        "id": "1oZxpf9yUg5e"
      },
      "execution_count": null,
      "outputs": []
    },
    {
      "cell_type": "code",
      "source": [
        "mse_train = mean_squared_error(Y_train, Y_pred_train)\n",
        "r2_train = r2_score(Y_train, Y_pred_train)\n",
        "\n",
        "mse_test = mean_squared_error(Y_test, Y_pred_test)\n",
        "r2_test = r2_score(Y_test, Y_pred_test)"
      ],
      "metadata": {
        "id": "kCVjbTnKUh9x"
      },
      "execution_count": null,
      "outputs": []
    },
    {
      "cell_type": "code",
      "source": [
        "print(f'Training MSE: {mse_train}, R2: {r2_train}')\n",
        "print(f'Test MSE: {mse_test}, R2: {r2_test}')"
      ],
      "metadata": {
        "colab": {
          "base_uri": "https://localhost:8080/"
        },
        "id": "fv3yWq7AUl1E",
        "outputId": "b456c918-d374-4b01-d43e-5bf9a0399790"
      },
      "execution_count": null,
      "outputs": [
        {
          "output_type": "stream",
          "name": "stdout",
          "text": [
            "Training MSE: 1.4403465732052093e-06, R2: 0.9857366869111049\n",
            "Test MSE: 1.4207312549196242e-06, R2: 0.9834144362694919\n"
          ]
        }
      ]
    },
    {
      "cell_type": "markdown",
      "source": [
        "#Prediction du cours du BTC\n",
        "\n"
      ],
      "metadata": {
        "id": "2q-OpL_lVePB"
      }
    },
    {
      "cell_type": "code",
      "source": [
        "APPL = data[data['Libellé'] == 'BTC']\n",
        "date = APPL['Date']\n",
        "APPL = APPL.drop(['Libellé', 'Date'], axis=1)\n",
        "APPL.head()"
      ],
      "metadata": {
        "colab": {
          "base_uri": "https://localhost:8080/",
          "height": 206
        },
        "id": "UbA4ZsxPWjrK",
        "outputId": "584fed94-1828-44ea-9cd4-477d306e0826"
      },
      "execution_count": null,
      "outputs": [
        {
          "output_type": "execute_result",
          "data": {
            "text/plain": [
              "     Adj Close       Open       High        Low   Volume        RSI  \\\n",
              "288  50.500000  45.000000  55.700001  43.099998  7705300  47.220578   \n",
              "289  47.000000  52.099998  52.459999  45.259998  3305400  47.268439   \n",
              "290  44.169998  45.529999  49.622002  42.250000  1857500  46.424217   \n",
              "291  48.790001  43.660000  48.919998  43.000000  1037000  46.666768   \n",
              "292  56.490002  50.130001  56.779999  48.549999  1974700  47.606607   \n",
              "\n",
              "           EMAF        EMAM        EMAS  \n",
              "288  103.625653  103.625653  103.625653  \n",
              "289  102.795810  102.795810  102.795810  \n",
              "290  105.859977  105.859977  105.859977  \n",
              "291  104.797668  104.797668  104.797668  \n",
              "292  121.162649  121.162649  121.162649  "
            ],
            "text/html": [
              "\n",
              "  <div id=\"df-34b84680-0172-42e5-b948-f39be1d77bcb\" class=\"colab-df-container\">\n",
              "    <div>\n",
              "<style scoped>\n",
              "    .dataframe tbody tr th:only-of-type {\n",
              "        vertical-align: middle;\n",
              "    }\n",
              "\n",
              "    .dataframe tbody tr th {\n",
              "        vertical-align: top;\n",
              "    }\n",
              "\n",
              "    .dataframe thead th {\n",
              "        text-align: right;\n",
              "    }\n",
              "</style>\n",
              "<table border=\"1\" class=\"dataframe\">\n",
              "  <thead>\n",
              "    <tr style=\"text-align: right;\">\n",
              "      <th></th>\n",
              "      <th>Adj Close</th>\n",
              "      <th>Open</th>\n",
              "      <th>High</th>\n",
              "      <th>Low</th>\n",
              "      <th>Volume</th>\n",
              "      <th>RSI</th>\n",
              "      <th>EMAF</th>\n",
              "      <th>EMAM</th>\n",
              "      <th>EMAS</th>\n",
              "    </tr>\n",
              "  </thead>\n",
              "  <tbody>\n",
              "    <tr>\n",
              "      <th>288</th>\n",
              "      <td>50.500000</td>\n",
              "      <td>45.000000</td>\n",
              "      <td>55.700001</td>\n",
              "      <td>43.099998</td>\n",
              "      <td>7705300</td>\n",
              "      <td>47.220578</td>\n",
              "      <td>103.625653</td>\n",
              "      <td>103.625653</td>\n",
              "      <td>103.625653</td>\n",
              "    </tr>\n",
              "    <tr>\n",
              "      <th>289</th>\n",
              "      <td>47.000000</td>\n",
              "      <td>52.099998</td>\n",
              "      <td>52.459999</td>\n",
              "      <td>45.259998</td>\n",
              "      <td>3305400</td>\n",
              "      <td>47.268439</td>\n",
              "      <td>102.795810</td>\n",
              "      <td>102.795810</td>\n",
              "      <td>102.795810</td>\n",
              "    </tr>\n",
              "    <tr>\n",
              "      <th>290</th>\n",
              "      <td>44.169998</td>\n",
              "      <td>45.529999</td>\n",
              "      <td>49.622002</td>\n",
              "      <td>42.250000</td>\n",
              "      <td>1857500</td>\n",
              "      <td>46.424217</td>\n",
              "      <td>105.859977</td>\n",
              "      <td>105.859977</td>\n",
              "      <td>105.859977</td>\n",
              "    </tr>\n",
              "    <tr>\n",
              "      <th>291</th>\n",
              "      <td>48.790001</td>\n",
              "      <td>43.660000</td>\n",
              "      <td>48.919998</td>\n",
              "      <td>43.000000</td>\n",
              "      <td>1037000</td>\n",
              "      <td>46.666768</td>\n",
              "      <td>104.797668</td>\n",
              "      <td>104.797668</td>\n",
              "      <td>104.797668</td>\n",
              "    </tr>\n",
              "    <tr>\n",
              "      <th>292</th>\n",
              "      <td>56.490002</td>\n",
              "      <td>50.130001</td>\n",
              "      <td>56.779999</td>\n",
              "      <td>48.549999</td>\n",
              "      <td>1974700</td>\n",
              "      <td>47.606607</td>\n",
              "      <td>121.162649</td>\n",
              "      <td>121.162649</td>\n",
              "      <td>121.162649</td>\n",
              "    </tr>\n",
              "  </tbody>\n",
              "</table>\n",
              "</div>\n",
              "    <div class=\"colab-df-buttons\">\n",
              "\n",
              "  <div class=\"colab-df-container\">\n",
              "    <button class=\"colab-df-convert\" onclick=\"convertToInteractive('df-34b84680-0172-42e5-b948-f39be1d77bcb')\"\n",
              "            title=\"Convert this dataframe to an interactive table.\"\n",
              "            style=\"display:none;\">\n",
              "\n",
              "  <svg xmlns=\"http://www.w3.org/2000/svg\" height=\"24px\" viewBox=\"0 -960 960 960\">\n",
              "    <path d=\"M120-120v-720h720v720H120Zm60-500h600v-160H180v160Zm220 220h160v-160H400v160Zm0 220h160v-160H400v160ZM180-400h160v-160H180v160Zm440 0h160v-160H620v160ZM180-180h160v-160H180v160Zm440 0h160v-160H620v160Z\"/>\n",
              "  </svg>\n",
              "    </button>\n",
              "\n",
              "  <style>\n",
              "    .colab-df-container {\n",
              "      display:flex;\n",
              "      gap: 12px;\n",
              "    }\n",
              "\n",
              "    .colab-df-convert {\n",
              "      background-color: #E8F0FE;\n",
              "      border: none;\n",
              "      border-radius: 50%;\n",
              "      cursor: pointer;\n",
              "      display: none;\n",
              "      fill: #1967D2;\n",
              "      height: 32px;\n",
              "      padding: 0 0 0 0;\n",
              "      width: 32px;\n",
              "    }\n",
              "\n",
              "    .colab-df-convert:hover {\n",
              "      background-color: #E2EBFA;\n",
              "      box-shadow: 0px 1px 2px rgba(60, 64, 67, 0.3), 0px 1px 3px 1px rgba(60, 64, 67, 0.15);\n",
              "      fill: #174EA6;\n",
              "    }\n",
              "\n",
              "    .colab-df-buttons div {\n",
              "      margin-bottom: 4px;\n",
              "    }\n",
              "\n",
              "    [theme=dark] .colab-df-convert {\n",
              "      background-color: #3B4455;\n",
              "      fill: #D2E3FC;\n",
              "    }\n",
              "\n",
              "    [theme=dark] .colab-df-convert:hover {\n",
              "      background-color: #434B5C;\n",
              "      box-shadow: 0px 1px 3px 1px rgba(0, 0, 0, 0.15);\n",
              "      filter: drop-shadow(0px 1px 2px rgba(0, 0, 0, 0.3));\n",
              "      fill: #FFFFFF;\n",
              "    }\n",
              "  </style>\n",
              "\n",
              "    <script>\n",
              "      const buttonEl =\n",
              "        document.querySelector('#df-34b84680-0172-42e5-b948-f39be1d77bcb button.colab-df-convert');\n",
              "      buttonEl.style.display =\n",
              "        google.colab.kernel.accessAllowed ? 'block' : 'none';\n",
              "\n",
              "      async function convertToInteractive(key) {\n",
              "        const element = document.querySelector('#df-34b84680-0172-42e5-b948-f39be1d77bcb');\n",
              "        const dataTable =\n",
              "          await google.colab.kernel.invokeFunction('convertToInteractive',\n",
              "                                                    [key], {});\n",
              "        if (!dataTable) return;\n",
              "\n",
              "        const docLinkHtml = 'Like what you see? Visit the ' +\n",
              "          '<a target=\"_blank\" href=https://colab.research.google.com/notebooks/data_table.ipynb>data table notebook</a>'\n",
              "          + ' to learn more about interactive tables.';\n",
              "        element.innerHTML = '';\n",
              "        dataTable['output_type'] = 'display_data';\n",
              "        await google.colab.output.renderOutput(dataTable, element);\n",
              "        const docLink = document.createElement('div');\n",
              "        docLink.innerHTML = docLinkHtml;\n",
              "        element.appendChild(docLink);\n",
              "      }\n",
              "    </script>\n",
              "  </div>\n",
              "\n",
              "\n",
              "<div id=\"df-88b4e027-9f21-4432-b7a3-3f0ae70b651a\">\n",
              "  <button class=\"colab-df-quickchart\" onclick=\"quickchart('df-88b4e027-9f21-4432-b7a3-3f0ae70b651a')\"\n",
              "            title=\"Suggest charts\"\n",
              "            style=\"display:none;\">\n",
              "\n",
              "<svg xmlns=\"http://www.w3.org/2000/svg\" height=\"24px\"viewBox=\"0 0 24 24\"\n",
              "     width=\"24px\">\n",
              "    <g>\n",
              "        <path d=\"M19 3H5c-1.1 0-2 .9-2 2v14c0 1.1.9 2 2 2h14c1.1 0 2-.9 2-2V5c0-1.1-.9-2-2-2zM9 17H7v-7h2v7zm4 0h-2V7h2v10zm4 0h-2v-4h2v4z\"/>\n",
              "    </g>\n",
              "</svg>\n",
              "  </button>\n",
              "\n",
              "<style>\n",
              "  .colab-df-quickchart {\n",
              "      --bg-color: #E8F0FE;\n",
              "      --fill-color: #1967D2;\n",
              "      --hover-bg-color: #E2EBFA;\n",
              "      --hover-fill-color: #174EA6;\n",
              "      --disabled-fill-color: #AAA;\n",
              "      --disabled-bg-color: #DDD;\n",
              "  }\n",
              "\n",
              "  [theme=dark] .colab-df-quickchart {\n",
              "      --bg-color: #3B4455;\n",
              "      --fill-color: #D2E3FC;\n",
              "      --hover-bg-color: #434B5C;\n",
              "      --hover-fill-color: #FFFFFF;\n",
              "      --disabled-bg-color: #3B4455;\n",
              "      --disabled-fill-color: #666;\n",
              "  }\n",
              "\n",
              "  .colab-df-quickchart {\n",
              "    background-color: var(--bg-color);\n",
              "    border: none;\n",
              "    border-radius: 50%;\n",
              "    cursor: pointer;\n",
              "    display: none;\n",
              "    fill: var(--fill-color);\n",
              "    height: 32px;\n",
              "    padding: 0;\n",
              "    width: 32px;\n",
              "  }\n",
              "\n",
              "  .colab-df-quickchart:hover {\n",
              "    background-color: var(--hover-bg-color);\n",
              "    box-shadow: 0 1px 2px rgba(60, 64, 67, 0.3), 0 1px 3px 1px rgba(60, 64, 67, 0.15);\n",
              "    fill: var(--button-hover-fill-color);\n",
              "  }\n",
              "\n",
              "  .colab-df-quickchart-complete:disabled,\n",
              "  .colab-df-quickchart-complete:disabled:hover {\n",
              "    background-color: var(--disabled-bg-color);\n",
              "    fill: var(--disabled-fill-color);\n",
              "    box-shadow: none;\n",
              "  }\n",
              "\n",
              "  .colab-df-spinner {\n",
              "    border: 2px solid var(--fill-color);\n",
              "    border-color: transparent;\n",
              "    border-bottom-color: var(--fill-color);\n",
              "    animation:\n",
              "      spin 1s steps(1) infinite;\n",
              "  }\n",
              "\n",
              "  @keyframes spin {\n",
              "    0% {\n",
              "      border-color: transparent;\n",
              "      border-bottom-color: var(--fill-color);\n",
              "      border-left-color: var(--fill-color);\n",
              "    }\n",
              "    20% {\n",
              "      border-color: transparent;\n",
              "      border-left-color: var(--fill-color);\n",
              "      border-top-color: var(--fill-color);\n",
              "    }\n",
              "    30% {\n",
              "      border-color: transparent;\n",
              "      border-left-color: var(--fill-color);\n",
              "      border-top-color: var(--fill-color);\n",
              "      border-right-color: var(--fill-color);\n",
              "    }\n",
              "    40% {\n",
              "      border-color: transparent;\n",
              "      border-right-color: var(--fill-color);\n",
              "      border-top-color: var(--fill-color);\n",
              "    }\n",
              "    60% {\n",
              "      border-color: transparent;\n",
              "      border-right-color: var(--fill-color);\n",
              "    }\n",
              "    80% {\n",
              "      border-color: transparent;\n",
              "      border-right-color: var(--fill-color);\n",
              "      border-bottom-color: var(--fill-color);\n",
              "    }\n",
              "    90% {\n",
              "      border-color: transparent;\n",
              "      border-bottom-color: var(--fill-color);\n",
              "    }\n",
              "  }\n",
              "</style>\n",
              "\n",
              "  <script>\n",
              "    async function quickchart(key) {\n",
              "      const quickchartButtonEl =\n",
              "        document.querySelector('#' + key + ' button');\n",
              "      quickchartButtonEl.disabled = true;  // To prevent multiple clicks.\n",
              "      quickchartButtonEl.classList.add('colab-df-spinner');\n",
              "      try {\n",
              "        const charts = await google.colab.kernel.invokeFunction(\n",
              "            'suggestCharts', [key], {});\n",
              "      } catch (error) {\n",
              "        console.error('Error during call to suggestCharts:', error);\n",
              "      }\n",
              "      quickchartButtonEl.classList.remove('colab-df-spinner');\n",
              "      quickchartButtonEl.classList.add('colab-df-quickchart-complete');\n",
              "    }\n",
              "    (() => {\n",
              "      let quickchartButtonEl =\n",
              "        document.querySelector('#df-88b4e027-9f21-4432-b7a3-3f0ae70b651a button');\n",
              "      quickchartButtonEl.style.display =\n",
              "        google.colab.kernel.accessAllowed ? 'block' : 'none';\n",
              "    })();\n",
              "  </script>\n",
              "</div>\n",
              "    </div>\n",
              "  </div>\n"
            ],
            "application/vnd.google.colaboratory.intrinsic+json": {
              "type": "dataframe",
              "variable_name": "APPL",
              "summary": "{\n  \"name\": \"APPL\",\n  \"rows\": 943,\n  \"fields\": [\n    {\n      \"column\": \"Adj Close\",\n      \"properties\": {\n        \"dtype\": \"number\",\n        \"std\": 20.800601639937465,\n        \"min\": 2.38,\n        \"max\": 106.139999,\n        \"num_unique_values\": 665,\n        \"samples\": [\n          32.810001,\n          30.51,\n          5.97\n        ],\n        \"semantic_type\": \"\",\n        \"description\": \"\"\n      }\n    },\n    {\n      \"column\": \"Open\",\n      \"properties\": {\n        \"dtype\": \"number\",\n        \"std\": 20.847169736688716,\n        \"min\": 2.38,\n        \"max\": 111.5,\n        \"num_unique_values\": 664,\n        \"samples\": [\n          27.24,\n          28.73,\n          5.31\n        ],\n        \"semantic_type\": \"\",\n        \"description\": \"\"\n      }\n    },\n    {\n      \"column\": \"High\",\n      \"properties\": {\n        \"dtype\": \"number\",\n        \"std\": 21.755137630917737,\n        \"min\": 2.45,\n        \"max\": 114.964996,\n        \"num_unique_values\": 735,\n        \"samples\": [\n          3.22,\n          40.18,\n          28.440001\n        ],\n        \"semantic_type\": \"\",\n        \"description\": \"\"\n      }\n    },\n    {\n      \"column\": \"Low\",\n      \"properties\": {\n        \"dtype\": \"number\",\n        \"std\": 19.856633264500132,\n        \"min\": 2.37,\n        \"max\": 99.519997,\n        \"num_unique_values\": 710,\n        \"samples\": [\n          27.5,\n          31.24,\n          2.88\n        ],\n        \"semantic_type\": \"\",\n        \"description\": \"\"\n      }\n    },\n    {\n      \"column\": \"Volume\",\n      \"properties\": {\n        \"dtype\": \"number\",\n        \"std\": 868414,\n        \"min\": 67000,\n        \"max\": 8262600,\n        \"num_unique_values\": 918,\n        \"samples\": [\n          377300,\n          474200,\n          1253500\n        ],\n        \"semantic_type\": \"\",\n        \"description\": \"\"\n      }\n    },\n    {\n      \"column\": \"RSI\",\n      \"properties\": {\n        \"dtype\": \"number\",\n        \"std\": 4.347653809000878,\n        \"min\": 26.03189301774017,\n        \"max\": 74.63164275448834,\n        \"num_unique_values\": 937,\n        \"samples\": [\n          43.67714809049209,\n          46.46155183061637,\n          47.09405106452323\n        ],\n        \"semantic_type\": \"\",\n        \"description\": \"\"\n      }\n    },\n    {\n      \"column\": \"EMAF\",\n      \"properties\": {\n        \"dtype\": \"number\",\n        \"std\": 60.979905836165216,\n        \"min\": 2.513675012362652,\n        \"max\": 206.2618262399815,\n        \"num_unique_values\": 943,\n        \"samples\": [\n          113.76943873529059,\n          128.185156550336,\n          2.546597554767673\n        ],\n        \"semantic_type\": \"\",\n        \"description\": \"\"\n      }\n    },\n    {\n      \"column\": \"EMAM\",\n      \"properties\": {\n        \"dtype\": \"number\",\n        \"std\": 60.979905836165216,\n        \"min\": 2.513675012362652,\n        \"max\": 206.2618262399815,\n        \"num_unique_values\": 943,\n        \"samples\": [\n          113.76943873529059,\n          128.185156550336,\n          2.546597554767673\n        ],\n        \"semantic_type\": \"\",\n        \"description\": \"\"\n      }\n    },\n    {\n      \"column\": \"EMAS\",\n      \"properties\": {\n        \"dtype\": \"number\",\n        \"std\": 60.979905836165216,\n        \"min\": 2.513675012362652,\n        \"max\": 206.2618262399815,\n        \"num_unique_values\": 943,\n        \"samples\": [\n          113.76943873529059,\n          128.185156550336,\n          2.546597554767673\n        ],\n        \"semantic_type\": \"\",\n        \"description\": \"\"\n      }\n    }\n  ]\n}"
            }
          },
          "metadata": {},
          "execution_count": 122
        }
      ]
    },
    {
      "cell_type": "code",
      "source": [
        "data_numpy = APPL.to_numpy()\n",
        "data_numpy = scaler.fit_transform(data_numpy)"
      ],
      "metadata": {
        "id": "zoVLZfYpa6Hs"
      },
      "execution_count": null,
      "outputs": []
    },
    {
      "cell_type": "code",
      "source": [
        "len = int(APPL.shape[0]*0.6)\n",
        "train = data_numpy[:len]\n",
        "test = data_numpy[len:]"
      ],
      "metadata": {
        "id": "Jn6R7h2UWxSv"
      },
      "execution_count": null,
      "outputs": []
    },
    {
      "cell_type": "code",
      "source": [
        "train.shape"
      ],
      "metadata": {
        "colab": {
          "base_uri": "https://localhost:8080/"
        },
        "id": "NmVIQICyXmvU",
        "outputId": "a8b6a95c-fc34-4321-bfb5-43db94950ca1"
      },
      "execution_count": null,
      "outputs": [
        {
          "output_type": "execute_result",
          "data": {
            "text/plain": [
              "(565, 9)"
            ]
          },
          "metadata": {},
          "execution_count": 117
        }
      ]
    },
    {
      "cell_type": "code",
      "source": [
        "y_pred = model.predict(test[:, 1:])#prediction"
      ],
      "metadata": {
        "id": "TpH8xjoKYdGH"
      },
      "execution_count": null,
      "outputs": []
    },
    {
      "cell_type": "code",
      "source": [
        "plt.figure(figsize=(16,6))\n",
        "plt.title('Model')\n",
        "plt.xlabel('Date', fontsize=18)\n",
        "plt.ylabel('Close Price USD ($)', fontsize=18)\n",
        "plt.plot(date.iloc[:len] ,train[:,0])\n",
        "plt.plot(date.iloc[len:], test[:,0])\n",
        "plt.plot(date.iloc[len:], y_pred)\n",
        "plt.xticks([])\n",
        "plt.legend(['Train', 'Val', 'Predictions'], loc='lower right')\n",
        "plt.show()"
      ],
      "metadata": {
        "colab": {
          "base_uri": "https://localhost:8080/",
          "height": 518
        },
        "id": "iqAyHC4tUqHT",
        "outputId": "9ac5cb66-8c77-4f26-e40e-4604588e3381"
      },
      "execution_count": null,
      "outputs": [
        {
          "output_type": "display_data",
          "data": {
            "text/plain": [
              "<Figure size 1600x600 with 1 Axes>"
            ],
            "image/png": "[encoded data removed]"
          },
          "metadata": {}
        }
      ]
    }
  ]
}